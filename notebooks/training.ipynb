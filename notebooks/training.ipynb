{
 "cells": [
  {
   "cell_type": "code",
   "execution_count": 1,
   "id": "a5409689-4c45-42e9-b5e4-87f8891ebcb3",
   "metadata": {},
   "outputs": [],
   "source": [
    "import csv\n",
    "count = 0\n",
    "buffer = []\n",
    "with open('producten_en_diensten_2024-09-13_21-47-37.csv', 'r', encoding='latin-1') as f:\n",
    "    reader = csv.reader(f, delimiter=',')\n",
    "    for row in reader:\n",
    "        if len(row) == 47:\n",
    "            buffer.append({\n",
    "                'thema': row[5],\n",
    "                'tpe': row[7],\n",
    "                'beschrijving': row[1]\n",
    "            })\n",
    "buffer = buffer[1:]\n"
   ]
  },
  {
   "cell_type": "code",
   "execution_count": 2,
   "id": "1d4e43cf-de07-4e46-836b-089eb0256f7a",
   "metadata": {},
   "outputs": [
    {
     "name": "stderr",
     "output_type": "stream",
     "text": [
      "2024/10/01 11:20:02 INFO mlflow.tracking.fluent: Experiment with name 'thema-ipdc-model' does not exist. Creating a new experiment.\n"
     ]
    },
    {
     "data": {
      "text/plain": [
       "<Experiment: artifact_location='mlflow-artifacts:/182', creation_time=1727781602503, experiment_id='182', last_update_time=1727781602503, lifecycle_stage='active', name='thema-ipdc-model', tags={}>"
      ]
     },
     "execution_count": 2,
     "metadata": {},
     "output_type": "execute_result"
    }
   ],
   "source": [
    "import mlflow\n",
    "mlflow.set_experiment('thema-ipdc-model')"
   ]
  },
  {
   "cell_type": "code",
   "execution_count": 3,
   "id": "8bb4182c-802a-45b7-95a9-b4bf45ec916b",
   "metadata": {},
   "outputs": [],
   "source": [
    "from transformers import AutoTokenizer\n",
    "from datasets import Dataset\n",
    "import pandas as pd\n",
    "df = pd.DataFrame(buffer)\n",
    "#tokenized_imdb = imdb.map(preprocess_function, batched=True)"
   ]
  },
  {
   "cell_type": "code",
   "execution_count": null,
   "id": "9003be62-75c9-48b7-b0bc-98d8fb8fb369",
   "metadata": {
    "scrolled": true
   },
   "outputs": [
    {
     "name": "stderr",
     "output_type": "stream",
     "text": [
      "/opt/conda/lib/python3.11/site-packages/transformers/tokenization_utils_base.py:1601: FutureWarning: `clean_up_tokenization_spaces` was not set. It will be set to `True` by default. This behavior will be depracted in transformers v4.45, and will be then set to `False` by default. For more details check this issue: https://github.com/huggingface/transformers/issues/31884\n",
      "  warnings.warn(\n"
     ]
    },
    {
     "data": {
      "application/vnd.jupyter.widget-view+json": {
       "model_id": "e27ae65b290f4dc3ba9d991b1c7aa42b",
       "version_major": 2,
       "version_minor": 0
      },
      "text/plain": [
       "Map:   0%|          | 0/19540 [00:00<?, ? examples/s]"
      ]
     },
     "metadata": {},
     "output_type": "display_data"
    }
   ],
   "source": [
    "from transformers import AutoTokenizer\n",
    "\n",
    "\n",
    "dataset = Dataset.from_pandas(df[df.thema != '']).train_test_split(test_size=0.15)\n",
    "\n",
    "classes = df.thema.str.get_dummies(sep=', ').columns\n",
    "class2id = {class_:id for id, class_ in enumerate(classes)}\n",
    "id2class = {id:class_ for class_, id in class2id.items()}\n",
    "\n",
    "model_path = 'papluca/xlm-roberta-base-language-detection'\n",
    "tokenizer = AutoTokenizer.from_pretrained(model_path)\n",
    "\n",
    "def preprocess_function(example):\n",
    "   text = example['beschrijving']\n",
    "   all_labels = example['thema'].split(', ')\n",
    "   labels = [0. for i in range(len(classes))]\n",
    "   for label in all_labels:\n",
    "       label_id = class2id[label]\n",
    "       labels[label_id] = 1.\n",
    "  \n",
    "   example = tokenizer(text, truncation=True)\n",
    "   example['labels'] = labels\n",
    "   return example\n",
    "\n",
    "tokenized_dataset = dataset.map(preprocess_function)"
   ]
  },
  {
   "cell_type": "code",
   "execution_count": null,
   "id": "267a3d5c-2fc1-4777-8dfd-277622dca027",
   "metadata": {},
   "outputs": [],
   "source": [
    "from transformers import DataCollatorWithPadding\n",
    "import evaluate\n",
    "import numpy as np\n",
    "from sklearn.metrics import f1_score, roc_auc_score, accuracy_score, classification_report\n",
    "\n",
    "data_collator = DataCollatorWithPadding(tokenizer=tokenizer)\n",
    "\n",
    "clf_metrics = evaluate.combine([\"accuracy\", \"f1\", \"precision\", \"recall\"])\n",
    "\n",
    "def sigmoid(x):\n",
    "   return 1/(1 + np.exp(-x))\n",
    "\n",
    "def compute_metrics(eval_pred):\n",
    "   predictions, labels = eval_pred\n",
    "   predictions = sigmoid(predictions)\n",
    "   predictions = (predictions > 0.5).astype(int).reshape(-1)\n",
    "   return clf_metrics.compute(predictions=predictions, references=labels.astype(int).reshape(-1))\n"
   ]
  },
  {
   "cell_type": "code",
   "execution_count": null,
   "id": "f4acd6c8-519b-4b42-9648-c019387b82a5",
   "metadata": {},
   "outputs": [],
   "source": [
    "from transformers import AutoModelForSequenceClassification, TrainingArguments, Trainer\n",
    "\n",
    "model = AutoModelForSequenceClassification.from_pretrained(\n",
    "    model_path, \n",
    "    num_labels=len(classes), \n",
    "    id2label=id2class, \n",
    "    label2id=class2id,\n",
    "    problem_type = \"multi_label_classification\",\n",
    "    ignore_mismatched_sizes=True\n",
    ")"
   ]
  },
  {
   "cell_type": "code",
   "execution_count": null,
   "id": "36fc9041-c6ce-44cc-8399-ef2758cf86df",
   "metadata": {},
   "outputs": [],
   "source": [
    "training_args = TrainingArguments(\n",
    "   output_dir=\"thema_ipdc_model\",\n",
    "   learning_rate=2e-5,\n",
    "   per_device_train_batch_size=3,\n",
    "   per_device_eval_batch_size=3,\n",
    "   num_train_epochs=1,\n",
    "   weight_decay=0.01,\n",
    "   eval_strategy=\"steps\",\n",
    "   eval_steps=1000,\n",
    "   save_strategy=\"steps\",\n",
    "   save_steps=1000,\n",
    "   load_best_model_at_end=True,\n",
    ")\n",
    "\n",
    "trainer = Trainer(\n",
    "   model=model,\n",
    "   args=training_args,\n",
    "   train_dataset=tokenized_dataset[\"train\"],\n",
    "   eval_dataset=tokenized_dataset[\"test\"],\n",
    "   tokenizer=tokenizer,\n",
    "   data_collator=data_collator,\n",
    "   compute_metrics=compute_metrics,\n",
    ")\n",
    "\n",
    "trainer.train()"
   ]
  },
  {
   "cell_type": "code",
   "execution_count": null,
   "id": "29a6ddec-2e7c-4c23-bf6c-b79713f7b93e",
   "metadata": {},
   "outputs": [],
   "source": []
  }
 ],
 "metadata": {
  "kernelspec": {
   "display_name": "Python 3 (ipykernel)",
   "language": "python",
   "name": "python3"
  },
  "language_info": {
   "codemirror_mode": {
    "name": "ipython",
    "version": 3
   },
   "file_extension": ".py",
   "mimetype": "text/x-python",
   "name": "python",
   "nbconvert_exporter": "python",
   "pygments_lexer": "ipython3",
   "version": "3.11.9"
  }
 },
 "nbformat": 4,
 "nbformat_minor": 5
}
